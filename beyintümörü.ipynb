{
 "cells": [
  {
   "cell_type": "code",
   "execution_count": 1,
   "metadata": {
    "id": "u6xV51Dguxui"
   },
   "outputs": [],
   "source": [
    "# from google.colab import drive\n",
    "# drive.mount('/content/drive')"
   ]
  },
  {
   "cell_type": "code",
   "execution_count": 2,
   "metadata": {
    "id": "8uzu_1Ewu0gj"
   },
   "outputs": [],
   "source": [
    "import numpy\n",
    "import random as r\n",
    "import glob\n",
    "import skimage.io as io\n",
    "import matplotlib.pyplot as plt\n",
    "import keras\n"
   ]
  },
  {
   "cell_type": "code",
   "execution_count": 3,
   "metadata": {
    "colab": {
     "base_uri": "https://localhost:8080/"
    },
    "id": "YP6i6PBxu0jd",
    "outputId": "849d095e-12bb-4391-bfd4-fd1afffbc003"
   },
   "outputs": [
    {
     "name": "stdout",
     "output_type": "stream",
     "text": [
      "Requirement already satisfied: simpleitk in c:\\users\\ckmzb\\anaconda3\\lib\\site-packages (2.0.1)\n",
      "Note: you may need to restart the kernel to use updated packages.\n"
     ]
    }
   ],
   "source": [
    "pip install simpleitk"
   ]
  },
  {
   "cell_type": "code",
   "execution_count": 4,
   "metadata": {
    "id": "FiLwpHh0u0mC"
   },
   "outputs": [],
   "source": [
    "yol='/content/drive/MyDrive/data_training/HGG/'\n"
   ]
  },
  {
   "cell_type": "code",
   "execution_count": 5,
   "metadata": {
    "colab": {
     "base_uri": "https://localhost:8080/"
    },
    "id": "B4ulghcRu0oz",
    "outputId": "617889aa-f96d-42d8-daa9-f7b7cd40c62f"
   },
   "outputs": [
    {
     "ename": "FileNotFoundError",
     "evalue": "[WinError 3] Sistem belirtilen yolu bulamıyor: '/content/drive/MyDrive/data_training/HGG/'",
     "output_type": "error",
     "traceback": [
      "\u001b[1;31m---------------------------------------------------------------------------\u001b[0m",
      "\u001b[1;31mFileNotFoundError\u001b[0m                         Traceback (most recent call last)",
      "\u001b[1;32m<ipython-input-5-5bf3bd18e803>\u001b[0m in \u001b[0;36m<module>\u001b[1;34m\u001b[0m\n\u001b[0;32m      1\u001b[0m \u001b[1;32mimport\u001b[0m \u001b[0mos\u001b[0m\u001b[1;33m\u001b[0m\u001b[1;33m\u001b[0m\u001b[0m\n\u001b[1;32m----> 2\u001b[1;33m \u001b[0mos\u001b[0m\u001b[1;33m.\u001b[0m\u001b[0mlistdir\u001b[0m\u001b[1;33m(\u001b[0m\u001b[0myol\u001b[0m\u001b[1;33m)\u001b[0m\u001b[1;33m\u001b[0m\u001b[1;33m\u001b[0m\u001b[0m\n\u001b[0m",
      "\u001b[1;31mFileNotFoundError\u001b[0m: [WinError 3] Sistem belirtilen yolu bulamıyor: '/content/drive/MyDrive/data_training/HGG/'"
     ]
    }
   ],
   "source": [
    "import os\n",
    "os.listdir(yol)"
   ]
  },
  {
   "cell_type": "code",
   "execution_count": null,
   "metadata": {
    "colab": {
     "base_uri": "https://localhost:8080/"
    },
    "id": "vrX2Ht_wu0r8",
    "outputId": "e9143d57-1372-40ec-b1bc-7b9346c5d0c3"
   },
   "outputs": [],
   "source": [
    "len(os.listdir(yol))"
   ]
  },
  {
   "cell_type": "code",
   "execution_count": null,
   "metadata": {
    "id": "ugg8FwCB3A5g"
   },
   "outputs": [],
   "source": [
    "import skimage.io as io\n",
    "import matplotlib.pyplot as plt\n",
    "import numpy as np\n",
    "import random as r\n",
    "\n",
    "def seg_array(path,end,label):\n",
    "    files = glob.glob(path+end,recursive=True)\n",
    "    img_liste = []\n",
    "    r.seed(9)\n",
    "    r.shuffle(files)\n",
    "    for file in files:\n",
    "        img = io.imread(file,plugin='simpleitk')\n",
    "        \n",
    "        if label == 1:\n",
    "            img[img != 0 ] = 1 # tam tümör\n",
    "        if label == 2:\n",
    "            img[img != 1 ] = 0 # nekroz\n",
    "        if label == 3:\n",
    "            img[img == 2 ] = 0 # ödemsiz tümör\n",
    "            img[img != 0 ] = 1\n",
    "        if label == 4:\n",
    "            img[img != 4 ] = 0 # genişleyen tümör\n",
    "            img[img == 4 ] = 1\n",
    "         \n",
    "        img.astype('float32')\n",
    "        \n",
    "        for slice in range(60,130):\n",
    "            img_s = img[slice,:,:]\n",
    "            img_s = np.expand_dims(img_s,axis=0)\n",
    "            img_liste.append(img_s)\n",
    "            \n",
    "    return np.array(img_liste,np.float32) #!!!!!!!!\n",
    "\n",
    "\n",
    "def train_array(path,end):\n",
    "    files = glob.glob(path+end,recursive=True)\n",
    "    img_liste = []\n",
    "    r.seed(9)\n",
    "    r.shuffle(files)\n",
    "    for file in files:\n",
    "        img = io.imread(file,plugin='simpleitk')\n",
    "        img = (img-img.mean())/ img.std()\n",
    "        img.astype('float32')\n",
    "        \n",
    "        for slice in range(60,130):\n",
    "            img_s = img[slice,:,:]\n",
    "            img_s = np.expand_dims(img_s,axis=0)\n",
    "            img_liste.append(img_s)\n",
    "            \n",
    "    return np.array(img_liste,np.float32) #!!!!!!!!"
   ]
  },
  {
   "cell_type": "code",
   "execution_count": null,
   "metadata": {
    "id": "Hj8uZ33bu00n"
   },
   "outputs": [],
   "source": [
    "flair=train_array(yol,'**/*flair.nii.gz')\n",
    "t2=train_array(yol,'**/*t2.nii.gz')\n",
    "seg = seg_array(yol,'**/*seg.nii.gz',1)\n",
    "seg_orj = seg_array(yol,'**/*seg.nii.gz',1)"
   ]
  },
  {
   "cell_type": "code",
   "execution_count": null,
   "metadata": {
    "colab": {
     "base_uri": "https://localhost:8080/"
    },
    "id": "hSQkECKIu03K",
    "outputId": "156c9f98-7690-4b12-89ad-2535309a1881"
   },
   "outputs": [],
   "source": [
    "flair.shape, seg.shape, t2.shape"
   ]
  },
  {
   "cell_type": "code",
   "execution_count": null,
   "metadata": {
    "colab": {
     "base_uri": "https://localhost:8080/"
    },
    "id": "zLuMq_fzu058",
    "outputId": "bf243c65-1866-4b3e-efde-aa20c637fd70"
   },
   "outputs": [],
   "source": [
    "flair.dtype, seg.dtype, t2.dtype"
   ]
  },
  {
   "cell_type": "code",
   "execution_count": null,
   "metadata": {
    "colab": {
     "base_uri": "https://localhost:8080/"
    },
    "id": "2uD75evzw_Kf",
    "outputId": "20ebda84-4ee3-4359-fe29-0117bcda431f"
   },
   "outputs": [],
   "source": [
    "x_train = np.concatenate((flair,t2),axis=1)\n",
    "x_train.dtype, x_train.shape"
   ]
  },
  {
   "cell_type": "code",
   "execution_count": 6,
   "metadata": {
    "id": "zFXYxsZ-4Bhq"
   },
   "outputs": [
    {
     "name": "stderr",
     "output_type": "stream",
     "text": [
      "C:\\Users\\ckmzb\\anaconda3\\lib\\site-packages\\tensorflow\\python\\keras\\optimizer_v2\\optimizer_v2.py:374: UserWarning: The `lr` argument is deprecated, use `learning_rate` instead.\n",
      "  warnings.warn(\n"
     ]
    }
   ],
   "source": [
    "from keras.models import Model\n",
    "from keras.layers import Dense, Dropout, Activation, Flatten\n",
    "from keras.layers import concatenate,Conv2D, MaxPooling2D, Conv2DTranspose\n",
    "from keras.layers import Input, merge, UpSampling2D,BatchNormalization\n",
    "from keras.callbacks import ModelCheckpoint\n",
    "from keras.optimizers import Adam\n",
    "from keras.preprocessing.image import ImageDataGenerator\n",
    "from keras import backend as K\n",
    "import tensorflow as tf\n",
    "\n",
    "K.set_image_data_format('channels_first')\n",
    "\n",
    "\n",
    "def dice_coef(y_true, y_pred):\n",
    "    smooth = 0.005 \n",
    "    y_true_f = K.flatten(y_true)\n",
    "    y_pred_f = K.flatten(y_pred)\n",
    "    intersection = K.sum(y_true_f * y_pred_f)\n",
    "    return (2. * intersection + smooth) / (K.sum(y_true_f) + K.sum(y_pred_f) + smooth)\n",
    "\n",
    "\n",
    "def dice_coef_loss(y_true, y_pred):\n",
    "    return 1-dice_coef(y_true, y_pred)\n",
    "    \n",
    "def unet_model():\n",
    "    \n",
    "    inputs = Input((2, 240 , 240))\n",
    "    \n",
    "    conv1 = Conv2D(64, (3, 3), activation='relu', padding='same') (inputs)\n",
    "    batch1 = BatchNormalization(axis=1)(conv1)\n",
    "    conv1 = Conv2D(64, (3, 3), activation='relu', padding='same') (batch1)\n",
    "    batch1 = BatchNormalization(axis=1)(conv1)\n",
    "    pool1 = MaxPooling2D((2, 2)) (batch1)\n",
    "    \n",
    "    conv2 = Conv2D(128, (3, 3), activation='relu', padding='same') (pool1)\n",
    "    batch2 = BatchNormalization(axis=1)(conv2)\n",
    "    conv2 = Conv2D(128, (3, 3), activation='relu', padding='same') (batch2)\n",
    "    batch2 = BatchNormalization(axis=1)(conv2)\n",
    "    pool2 = MaxPooling2D((2, 2)) (batch2)\n",
    "    \n",
    "    conv3 = Conv2D(256, (3, 3), activation='relu', padding='same') (pool2)\n",
    "    batch3 = BatchNormalization(axis=1)(conv3)\n",
    "    conv3 = Conv2D(256, (3, 3), activation='relu', padding='same') (batch3)\n",
    "    batch3 = BatchNormalization(axis=1)(conv3)\n",
    "    pool3 = MaxPooling2D((2, 2)) (batch3)\n",
    "    \n",
    "    conv4 = Conv2D(512, (3, 3), activation='relu', padding='same') (pool3)\n",
    "    batch4 = BatchNormalization(axis=1)(conv4)\n",
    "    conv4 = Conv2D(512, (3, 3), activation='relu', padding='same') (batch4)\n",
    "    batch4 = BatchNormalization(axis=1)(conv4)\n",
    "    pool4 = MaxPooling2D(pool_size=(2, 2)) (batch4)\n",
    "    \n",
    "    conv5 = Conv2D(1024, (3, 3), activation='relu', padding='same') (pool4)\n",
    "    batch5 = BatchNormalization(axis=1)(conv5)\n",
    "    conv5 = Conv2D(1024, (3, 3), activation='relu', padding='same') (batch5)\n",
    "    batch5 = BatchNormalization(axis=1)(conv5)\n",
    "    \n",
    "    up6 = Conv2DTranspose(512, (2, 2), strides=(2, 2), padding='same') (batch5)\n",
    "    up6 = concatenate([up6, conv4], axis=1)\n",
    "    conv6 = Conv2D(512, (3, 3), activation='relu', padding='same') (up6)\n",
    "    batch6 = BatchNormalization(axis=1)(conv6)\n",
    "    conv6 = Conv2D(512, (3, 3), activation='relu', padding='same') (batch6)\n",
    "    batch6 = BatchNormalization(axis=1)(conv6)\n",
    "    \n",
    "    up7 = Conv2DTranspose(256, (2, 2), strides=(2, 2), padding='same') (batch6)\n",
    "    up7 = concatenate([up7, conv3], axis=1)\n",
    "    conv7 = Conv2D(256, (3, 3), activation='relu', padding='same') (up7)\n",
    "    batch7 = BatchNormalization(axis=1)(conv7)\n",
    "    conv7 = Conv2D(256, (3, 3), activation='relu', padding='same') (batch7)\n",
    "    batch7 = BatchNormalization(axis=1)(conv7)\n",
    "    \n",
    "    up8 = Conv2DTranspose(128, (2, 2), strides=(2, 2), padding='same') (batch7)\n",
    "    up8 = concatenate([up8, conv2], axis=1)\n",
    "    conv8 = Conv2D(128, (3, 3), activation='relu', padding='same') (up8)\n",
    "    batch8 = BatchNormalization(axis=1)(conv8)\n",
    "    conv8 = Conv2D(128, (3, 3), activation='relu', padding='same') (batch8)\n",
    "    batch8 = BatchNormalization(axis=1)(conv8)\n",
    "    \n",
    "    up9 = Conv2DTranspose(64, (2, 2), strides=(2, 2), padding='same') (batch8)\n",
    "    up9 = concatenate([up9, conv1], axis=1)\n",
    "    conv9 = Conv2D(64, (3, 3), activation='relu', padding='same') (up9)\n",
    "    batch9 = BatchNormalization(axis=1)(conv9)\n",
    "    conv9 = Conv2D(64, (3, 3), activation='relu', padding='same') (batch9)\n",
    "    batch9 = BatchNormalization(axis=1)(conv9)\n",
    "\n",
    "    conv10 = Conv2D(1, (1, 1), activation='sigmoid')(batch9)\n",
    "\n",
    "    model = Model(inputs=[inputs], outputs=[conv10])\n",
    "\n",
    "    model.compile(optimizer=Adam(lr=1e-4), loss=dice_coef_loss, metrics=[dice_coef])\n",
    "\n",
    "    return model\n",
    "\n",
    "model = unet_model()"
   ]
  },
  {
   "cell_type": "code",
   "execution_count": 7,
   "metadata": {
    "colab": {
     "base_uri": "https://localhost:8080/"
    },
    "id": "LySycth-wPN5",
    "outputId": "10d8c5e6-8309-4652-cb04-ae12407494c4"
   },
   "outputs": [
    {
     "ename": "NameError",
     "evalue": "name 'x_train' is not defined",
     "output_type": "error",
     "traceback": [
      "\u001b[1;31m---------------------------------------------------------------------------\u001b[0m",
      "\u001b[1;31mNameError\u001b[0m                                 Traceback (most recent call last)",
      "\u001b[1;32m<ipython-input-7-bddf211458c3>\u001b[0m in \u001b[0;36m<module>\u001b[1;34m\u001b[0m\n\u001b[1;32m----> 1\u001b[1;33m \u001b[0mmodel\u001b[0m\u001b[1;33m.\u001b[0m\u001b[0mfit\u001b[0m\u001b[1;33m(\u001b[0m\u001b[0mx_train\u001b[0m\u001b[1;33m,\u001b[0m\u001b[0mseg\u001b[0m\u001b[1;33m,\u001b[0m\u001b[0mvalidation_split\u001b[0m\u001b[1;33m=\u001b[0m\u001b[1;36m0.20\u001b[0m\u001b[1;33m,\u001b[0m\u001b[0mbatch_size\u001b[0m\u001b[1;33m=\u001b[0m\u001b[1;36m10\u001b[0m\u001b[1;33m,\u001b[0m\u001b[0mepochs\u001b[0m\u001b[1;33m=\u001b[0m\u001b[1;36m1\u001b[0m\u001b[1;33m,\u001b[0m\u001b[0mshuffle\u001b[0m\u001b[1;33m=\u001b[0m\u001b[1;32mTrue\u001b[0m\u001b[1;33m,\u001b[0m\u001b[0mverbose\u001b[0m\u001b[1;33m=\u001b[0m\u001b[1;36m1\u001b[0m\u001b[1;33m)\u001b[0m\u001b[1;33m\u001b[0m\u001b[1;33m\u001b[0m\u001b[0m\n\u001b[0m",
      "\u001b[1;31mNameError\u001b[0m: name 'x_train' is not defined"
     ]
    }
   ],
   "source": [
    "model.fit(x_train,seg,validation_split=0.20,batch_size=10,epochs=1,shuffle=True,verbose=1)"
   ]
  },
  {
   "cell_type": "code",
   "execution_count": 8,
   "metadata": {
    "id": "aPUhTnq5wPQp"
   },
   "outputs": [
    {
     "ename": "NameError",
     "evalue": "name 'seg_array' is not defined",
     "output_type": "error",
     "traceback": [
      "\u001b[1;31m---------------------------------------------------------------------------\u001b[0m",
      "\u001b[1;31mNameError\u001b[0m                                 Traceback (most recent call last)",
      "\u001b[1;32m<ipython-input-8-38972e6a8688>\u001b[0m in \u001b[0;36m<module>\u001b[1;34m\u001b[0m\n\u001b[1;32m----> 1\u001b[1;33m \u001b[0mseg_geniş\u001b[0m   \u001b[1;33m=\u001b[0m \u001b[0mseg_array\u001b[0m\u001b[1;33m(\u001b[0m\u001b[0myol\u001b[0m\u001b[1;33m,\u001b[0m\u001b[1;34m'**/*seg.nii.gz'\u001b[0m\u001b[1;33m,\u001b[0m\u001b[1;36m4\u001b[0m\u001b[1;33m)\u001b[0m\u001b[1;33m\u001b[0m\u001b[1;33m\u001b[0m\u001b[0m\n\u001b[0m\u001b[0;32m      2\u001b[0m \u001b[0mseg_ödemsiz\u001b[0m \u001b[1;33m=\u001b[0m \u001b[0mseg_array\u001b[0m\u001b[1;33m(\u001b[0m\u001b[0myol\u001b[0m\u001b[1;33m,\u001b[0m\u001b[1;34m'**/*seg.nii.gz'\u001b[0m\u001b[1;33m,\u001b[0m\u001b[1;36m3\u001b[0m\u001b[1;33m)\u001b[0m\u001b[1;33m\u001b[0m\u001b[1;33m\u001b[0m\u001b[0m\n",
      "\u001b[1;31mNameError\u001b[0m: name 'seg_array' is not defined"
     ]
    }
   ],
   "source": [
    "seg_geniş   = seg_array(yol,'**/*seg.nii.gz',4)\n",
    "seg_ödemsiz = seg_array(yol,'**/*seg.nii.gz',3)"
   ]
  },
  {
   "cell_type": "code",
   "execution_count": 9,
   "metadata": {
    "id": "DYnqpEzzwPTz"
   },
   "outputs": [
    {
     "ename": "NameError",
     "evalue": "name 'train_array' is not defined",
     "output_type": "error",
     "traceback": [
      "\u001b[1;31m---------------------------------------------------------------------------\u001b[0m",
      "\u001b[1;31mNameError\u001b[0m                                 Traceback (most recent call last)",
      "\u001b[1;32m<ipython-input-9-2ba972beff76>\u001b[0m in \u001b[0;36m<module>\u001b[1;34m\u001b[0m\n\u001b[1;32m----> 1\u001b[1;33m \u001b[0mt1ce\u001b[0m \u001b[1;33m=\u001b[0m \u001b[0mtrain_array\u001b[0m\u001b[1;33m(\u001b[0m\u001b[0myol\u001b[0m\u001b[1;33m,\u001b[0m\u001b[1;34m'**/*t1ce.nii.gz'\u001b[0m\u001b[1;33m)\u001b[0m\u001b[1;33m\u001b[0m\u001b[1;33m\u001b[0m\u001b[0m\n\u001b[0m",
      "\u001b[1;31mNameError\u001b[0m: name 'train_array' is not defined"
     ]
    }
   ],
   "source": [
    "t1ce = train_array(yol,'**/*t1ce.nii.gz')"
   ]
  },
  {
   "cell_type": "code",
   "execution_count": 10,
   "metadata": {
    "colab": {
     "base_uri": "https://localhost:8080/"
    },
    "id": "-tzUF5g90YAt",
    "outputId": "b6f96413-6add-4114-a2c4-359449daa80d"
   },
   "outputs": [
    {
     "ename": "NameError",
     "evalue": "name 'seg_geniş' is not defined",
     "output_type": "error",
     "traceback": [
      "\u001b[1;31m---------------------------------------------------------------------------\u001b[0m",
      "\u001b[1;31mNameError\u001b[0m                                 Traceback (most recent call last)",
      "\u001b[1;32m<ipython-input-10-784a5a9e5735>\u001b[0m in \u001b[0;36m<module>\u001b[1;34m\u001b[0m\n\u001b[1;32m----> 1\u001b[1;33m \u001b[0mseg_geniş\u001b[0m\u001b[1;33m.\u001b[0m\u001b[0mshape\u001b[0m\u001b[1;33m,\u001b[0m \u001b[0mseg_ödemsiz\u001b[0m\u001b[1;33m.\u001b[0m\u001b[0mshape\u001b[0m\u001b[1;33m,\u001b[0m \u001b[0mt1ce\u001b[0m\u001b[1;33m.\u001b[0m\u001b[0mshape\u001b[0m\u001b[1;33m\u001b[0m\u001b[1;33m\u001b[0m\u001b[0m\n\u001b[0m",
      "\u001b[1;31mNameError\u001b[0m: name 'seg_geniş' is not defined"
     ]
    }
   ],
   "source": [
    "seg_geniş.shape, seg_ödemsiz.shape, t1ce.shape"
   ]
  },
  {
   "cell_type": "code",
   "execution_count": 11,
   "metadata": {
    "colab": {
     "base_uri": "https://localhost:8080/",
     "height": 241
    },
    "id": "0ZN40U2M0YDf",
    "outputId": "44ed4563-ccd2-4cb9-bd0d-44612d352676"
   },
   "outputs": [
    {
     "ename": "NameError",
     "evalue": "name 't1ce' is not defined",
     "output_type": "error",
     "traceback": [
      "\u001b[1;31m---------------------------------------------------------------------------\u001b[0m",
      "\u001b[1;31mNameError\u001b[0m                                 Traceback (most recent call last)",
      "\u001b[1;32m<ipython-input-11-93faf58d9fb9>\u001b[0m in \u001b[0;36m<module>\u001b[1;34m\u001b[0m\n\u001b[0;32m      3\u001b[0m \u001b[0mplt\u001b[0m\u001b[1;33m.\u001b[0m\u001b[0msubplot\u001b[0m\u001b[1;33m(\u001b[0m\u001b[1;36m3\u001b[0m\u001b[1;33m,\u001b[0m\u001b[1;36m4\u001b[0m\u001b[1;33m,\u001b[0m\u001b[1;36m1\u001b[0m\u001b[1;33m)\u001b[0m\u001b[1;33m\u001b[0m\u001b[1;33m\u001b[0m\u001b[0m\n\u001b[0;32m      4\u001b[0m \u001b[0mplt\u001b[0m\u001b[1;33m.\u001b[0m\u001b[0mtitle\u001b[0m\u001b[1;33m(\u001b[0m\u001b[1;34m'T1ce'\u001b[0m\u001b[1;33m)\u001b[0m\u001b[1;33m\u001b[0m\u001b[1;33m\u001b[0m\u001b[0m\n\u001b[1;32m----> 5\u001b[1;33m \u001b[0mplt\u001b[0m\u001b[1;33m.\u001b[0m\u001b[0mimshow\u001b[0m\u001b[1;33m(\u001b[0m\u001b[0mt1ce\u001b[0m\u001b[1;33m[\u001b[0m\u001b[1;36m400\u001b[0m\u001b[1;33m,\u001b[0m\u001b[1;36m0\u001b[0m\u001b[1;33m,\u001b[0m\u001b[1;33m:\u001b[0m\u001b[1;33m,\u001b[0m\u001b[1;33m:\u001b[0m\u001b[1;33m]\u001b[0m\u001b[1;33m)\u001b[0m\u001b[1;33m\u001b[0m\u001b[1;33m\u001b[0m\u001b[0m\n\u001b[0m\u001b[0;32m      6\u001b[0m \u001b[1;33m\u001b[0m\u001b[0m\n\u001b[0;32m      7\u001b[0m \u001b[0mplt\u001b[0m\u001b[1;33m.\u001b[0m\u001b[0msubplot\u001b[0m\u001b[1;33m(\u001b[0m\u001b[1;36m3\u001b[0m\u001b[1;33m,\u001b[0m\u001b[1;36m4\u001b[0m\u001b[1;33m,\u001b[0m\u001b[1;36m2\u001b[0m\u001b[1;33m)\u001b[0m\u001b[1;33m\u001b[0m\u001b[1;33m\u001b[0m\u001b[0m\n",
      "\u001b[1;31mNameError\u001b[0m: name 't1ce' is not defined"
     ]
    },
    {
     "data": {
      "image/png": "[encoded data removed]",
      "text/plain": [
       "<Figure size 1080x720 with 1 Axes>"
      ]
     },
     "metadata": {
      "needs_background": "light"
     },
     "output_type": "display_data"
    }
   ],
   "source": [
    "plt.figure(figsize=(15,10))\n",
    "\n",
    "plt.subplot(3,4,1)\n",
    "plt.title('T1ce')\n",
    "plt.imshow(t1ce[400,0,:,:])\n",
    "\n",
    "plt.subplot(3,4,2)\n",
    "plt.title('geniş')\n",
    "plt.imshow(seg_geniş[400,0,:,:])\n",
    "\n",
    "plt.subplot(3,4,3)\n",
    "plt.title('ödemsiz')\n",
    "plt.imshow(seg_ödemsiz[400,0,:,:])"
   ]
  },
  {
   "cell_type": "code",
   "execution_count": 12,
   "metadata": {
    "colab": {
     "base_uri": "https://localhost:8080/"
    },
    "id": "JcC6IQEh0YFG",
    "outputId": "5c6c6fe7-b824-41c5-e7bd-f631e702e2a4"
   },
   "outputs": [
    {
     "ename": "NameError",
     "evalue": "name 'seg_ödemsiz' is not defined",
     "output_type": "error",
     "traceback": [
      "\u001b[1;31m---------------------------------------------------------------------------\u001b[0m",
      "\u001b[1;31mNameError\u001b[0m                                 Traceback (most recent call last)",
      "\u001b[1;32m<ipython-input-12-3f3b17574e4f>\u001b[0m in \u001b[0;36m<module>\u001b[1;34m\u001b[0m\n\u001b[0;32m     23\u001b[0m     \u001b[1;32mreturn\u001b[0m \u001b[0mnp\u001b[0m\u001b[1;33m.\u001b[0m\u001b[0marray\u001b[0m\u001b[1;33m(\u001b[0m\u001b[0mliste_boş\u001b[0m\u001b[1;33m)\u001b[0m\u001b[1;33m\u001b[0m\u001b[1;33m\u001b[0m\u001b[0m\n\u001b[0;32m     24\u001b[0m \u001b[1;33m\u001b[0m\u001b[0m\n\u001b[1;32m---> 25\u001b[1;33m \u001b[0mödemsiz\u001b[0m \u001b[1;33m=\u001b[0m \u001b[0mtumortoarray\u001b[0m\u001b[1;33m(\u001b[0m\u001b[0mseg_ödemsiz\u001b[0m\u001b[1;33m,\u001b[0m\u001b[0mseg_ödemsiz\u001b[0m\u001b[1;33m)\u001b[0m\u001b[1;33m\u001b[0m\u001b[1;33m\u001b[0m\u001b[0m\n\u001b[0m\u001b[0;32m     26\u001b[0m \u001b[0mgeniş\u001b[0m \u001b[1;33m=\u001b[0m \u001b[0mtumortoarray\u001b[0m\u001b[1;33m(\u001b[0m\u001b[0mseg_geniş\u001b[0m\u001b[1;33m,\u001b[0m\u001b[0mseg_ödemsiz\u001b[0m\u001b[1;33m)\u001b[0m\u001b[1;33m\u001b[0m\u001b[1;33m\u001b[0m\u001b[0m\n\u001b[0;32m     27\u001b[0m \u001b[0mt1ce_kırp\u001b[0m \u001b[1;33m=\u001b[0m \u001b[0mtumortoarray\u001b[0m\u001b[1;33m(\u001b[0m\u001b[0mt1ce\u001b[0m\u001b[1;33m,\u001b[0m\u001b[0mseg_ödemsiz\u001b[0m\u001b[1;33m)\u001b[0m\u001b[1;33m\u001b[0m\u001b[1;33m\u001b[0m\u001b[0m\n",
      "\u001b[1;31mNameError\u001b[0m: name 'seg_ödemsiz' is not defined"
     ]
    }
   ],
   "source": [
    "def tümör_kırpma(mr,seg):\n",
    "    \n",
    "    mr = mr[0]\n",
    "    liste = []\n",
    "    tmp = seg[0,:,:]\n",
    "    tmp[tmp>0.2] = 1\n",
    "    tmp[tmp!= 1] = 0\n",
    "    index_xy = np.where(tmp==1)    \n",
    "    if index_xy[0] != []:\n",
    "        merkez_y = (max(index_xy[0]) + (min(index_xy[0])) ) / 2\n",
    "        merkez_x = (max(index_xy[1]) + (min(index_xy[1])) ) / 2\n",
    "        img_x =  np.zeros((64,64), np.float32)\n",
    "        img_x[:,:] = mr[int(merkez_y - 64/2):int(merkez_y + 64/2),int(merkez_x - 64/2):int(merkez_x + 64/2) ]\n",
    "        liste.append(img_x)    \n",
    "    return np.array(liste)\n",
    "def tumortoarray(tumor,segmentasyon):\n",
    "    liste_boş= []\n",
    "    for i in range(len(segmentasyon)):\n",
    "        img = tümör_kırpma(tumor[i],segmentasyon[i])\n",
    "        if len(img.shape) > 2:\n",
    "            liste_boş.append(img)\n",
    "            print(f'{i}')\n",
    "    return np.array(liste_boş)\n",
    "\n",
    "ödemsiz = tumortoarray(seg_ödemsiz,seg_ödemsiz)\n",
    "geniş = tumortoarray(seg_geniş,seg_ödemsiz)\n",
    "t1ce_kırp = tumortoarray(t1ce,seg_ödemsiz)"
   ]
  },
  {
   "cell_type": "code",
   "execution_count": 13,
   "metadata": {
    "colab": {
     "base_uri": "https://localhost:8080/"
    },
    "id": "_WE60cPv0YIZ",
    "outputId": "fe9ed9ca-0cf0-4db0-85a5-6afa5f08a9a4"
   },
   "outputs": [
    {
     "ename": "NameError",
     "evalue": "name 't1ce_kırp' is not defined",
     "output_type": "error",
     "traceback": [
      "\u001b[1;31m---------------------------------------------------------------------------\u001b[0m",
      "\u001b[1;31mNameError\u001b[0m                                 Traceback (most recent call last)",
      "\u001b[1;32m<ipython-input-13-a8df5bcc9f2a>\u001b[0m in \u001b[0;36m<module>\u001b[1;34m\u001b[0m\n\u001b[1;32m----> 1\u001b[1;33m \u001b[0mt1ce_kırp\u001b[0m\u001b[1;33m.\u001b[0m\u001b[0mshape\u001b[0m\u001b[1;33m,\u001b[0m \u001b[0mödemsiz\u001b[0m\u001b[1;33m.\u001b[0m\u001b[0mshape\u001b[0m\u001b[1;33m,\u001b[0m \u001b[0mgeniş\u001b[0m\u001b[1;33m.\u001b[0m\u001b[0mshape\u001b[0m\u001b[1;33m\u001b[0m\u001b[1;33m\u001b[0m\u001b[0m\n\u001b[0m",
      "\u001b[1;31mNameError\u001b[0m: name 't1ce_kırp' is not defined"
     ]
    }
   ],
   "source": [
    "t1ce_kırp.shape, ödemsiz.shape, geniş.shape"
   ]
  },
  {
   "cell_type": "code",
   "execution_count": 14,
   "metadata": {
    "colab": {
     "base_uri": "https://localhost:8080/",
     "height": 241
    },
    "id": "5U90jVcO0YL1",
    "outputId": "f85deeb8-9662-4d4e-cf3a-f9efe94ea464"
   },
   "outputs": [
    {
     "ename": "NameError",
     "evalue": "name 't1ce_kırp' is not defined",
     "output_type": "error",
     "traceback": [
      "\u001b[1;31m---------------------------------------------------------------------------\u001b[0m",
      "\u001b[1;31mNameError\u001b[0m                                 Traceback (most recent call last)",
      "\u001b[1;32m<ipython-input-14-a9040227cea6>\u001b[0m in \u001b[0;36m<module>\u001b[1;34m\u001b[0m\n\u001b[0;32m      3\u001b[0m \u001b[0mplt\u001b[0m\u001b[1;33m.\u001b[0m\u001b[0msubplot\u001b[0m\u001b[1;33m(\u001b[0m\u001b[1;36m3\u001b[0m\u001b[1;33m,\u001b[0m\u001b[1;36m4\u001b[0m\u001b[1;33m,\u001b[0m\u001b[1;36m1\u001b[0m\u001b[1;33m)\u001b[0m\u001b[1;33m\u001b[0m\u001b[1;33m\u001b[0m\u001b[0m\n\u001b[0;32m      4\u001b[0m \u001b[0mplt\u001b[0m\u001b[1;33m.\u001b[0m\u001b[0mtitle\u001b[0m\u001b[1;33m(\u001b[0m\u001b[1;34m'T1ce'\u001b[0m\u001b[1;33m)\u001b[0m\u001b[1;33m\u001b[0m\u001b[1;33m\u001b[0m\u001b[0m\n\u001b[1;32m----> 5\u001b[1;33m \u001b[0mplt\u001b[0m\u001b[1;33m.\u001b[0m\u001b[0mimshow\u001b[0m\u001b[1;33m(\u001b[0m\u001b[0mt1ce_kırp\u001b[0m\u001b[1;33m[\u001b[0m\u001b[1;36m405\u001b[0m\u001b[1;33m,\u001b[0m\u001b[1;36m0\u001b[0m\u001b[1;33m,\u001b[0m\u001b[1;33m:\u001b[0m\u001b[1;33m,\u001b[0m\u001b[1;33m:\u001b[0m\u001b[1;33m]\u001b[0m\u001b[1;33m)\u001b[0m\u001b[1;33m\u001b[0m\u001b[1;33m\u001b[0m\u001b[0m\n\u001b[0m\u001b[0;32m      6\u001b[0m \u001b[1;33m\u001b[0m\u001b[0m\n\u001b[0;32m      7\u001b[0m \u001b[0mplt\u001b[0m\u001b[1;33m.\u001b[0m\u001b[0msubplot\u001b[0m\u001b[1;33m(\u001b[0m\u001b[1;36m3\u001b[0m\u001b[1;33m,\u001b[0m\u001b[1;36m4\u001b[0m\u001b[1;33m,\u001b[0m\u001b[1;36m2\u001b[0m\u001b[1;33m)\u001b[0m\u001b[1;33m\u001b[0m\u001b[1;33m\u001b[0m\u001b[0m\n",
      "\u001b[1;31mNameError\u001b[0m: name 't1ce_kırp' is not defined"
     ]
    },
    {
     "data": {
      "image/png": "[encoded data removed]",
      "text/plain": [
       "<Figure size 1080x720 with 1 Axes>"
      ]
     },
     "metadata": {
      "needs_background": "light"
     },
     "output_type": "display_data"
    }
   ],
   "source": [
    "plt.figure(figsize=(15,10))\n",
    "\n",
    "plt.subplot(3,4,1)\n",
    "plt.title('T1ce')\n",
    "plt.imshow(t1ce_kırp[405,0,:,:])\n",
    "\n",
    "plt.subplot(3,4,2)\n",
    "plt.title('geniş')\n",
    "plt.imshow(geniş[405,0,:,:])\n",
    "\n",
    "plt.subplot(3,4,3)\n",
    "plt.title('ödemsiz')\n",
    "plt.imshow(ödemsiz[405,0,:,:])"
   ]
  },
  {
   "cell_type": "code",
   "execution_count": 15,
   "metadata": {
    "id": "TLUB8wR-5LzB"
   },
   "outputs": [],
   "source": [
    "def unet_model_7():\n",
    "    \n",
    "    inputs = Input((1, 64, 64))\n",
    "    conv1 = Conv2D(64, (3, 3), activation='relu', padding='same') (inputs)\n",
    "    batch1 = BatchNormalization(axis=1)(conv1)\n",
    "    conv1 = Conv2D(64, (3, 3), activation='relu', padding='same') (batch1)\n",
    "    batch1 = BatchNormalization(axis=1)(conv1)\n",
    "    pool1 = MaxPooling2D((2, 2)) (batch1)\n",
    "    \n",
    "    conv2 = Conv2D(128, (3, 3), activation='relu', padding='same') (pool1)\n",
    "    batch2 = BatchNormalization(axis=1)(conv2)\n",
    "    conv2 = Conv2D(128, (3, 3), activation='relu', padding='same') (batch2)\n",
    "    batch2 = BatchNormalization(axis=1)(conv2)\n",
    "    pool2 = MaxPooling2D((2, 2)) (batch2)\n",
    "    \n",
    "    conv3 = Conv2D(256, (3, 3), activation='relu', padding='same') (pool2)\n",
    "    batch3 = BatchNormalization(axis=1)(conv3)\n",
    "    conv3 = Conv2D(256, (3, 3), activation='relu', padding='same') (batch3)\n",
    "    batch3 = BatchNormalization(axis=1)(conv3)\n",
    "    pool3 = MaxPooling2D((2, 2)) (batch3)\n",
    "     \n",
    "    conv5 = Conv2D(512, (3, 3), activation='relu', padding='same') (pool3)\n",
    "    batch5 = BatchNormalization(axis=1)(conv5)\n",
    "    conv5 = Conv2D(512, (3, 3), activation='relu', padding='same') (batch5)\n",
    "    batch5 = BatchNormalization(axis=1)(conv5)\n",
    "    \n",
    "    up7 = Conv2DTranspose(256, (2, 2), strides=(2, 2), padding='same') (batch5)\n",
    "    up7 = concatenate([up7, conv3], axis=1)\n",
    "    conv7 = Conv2D(256, (3, 3), activation='relu', padding='same') (up7)\n",
    "    batch7 = BatchNormalization(axis=1)(conv7)\n",
    "    conv7 = Conv2D(256, (3, 3), activation='relu', padding='same') (batch7)\n",
    "    batch7 = BatchNormalization(axis=1)(conv7)\n",
    "    \n",
    "    up8 = Conv2DTranspose(128, (2, 2), strides=(2, 2), padding='same') (batch7)\n",
    "    up8 = concatenate([up8, conv2], axis=1)\n",
    "    conv8 = Conv2D(128, (3, 3), activation='relu', padding='same') (up8)\n",
    "    batch8 = BatchNormalization(axis=1)(conv8)\n",
    "    conv8 = Conv2D(128, (3, 3), activation='relu', padding='same') (batch8)\n",
    "    batch8 = BatchNormalization(axis=1)(conv8)\n",
    "    \n",
    "    up9 = Conv2DTranspose(64, (2, 2), strides=(2, 2), padding='same') (batch8)\n",
    "    up9 = concatenate([up9, conv1], axis=1)\n",
    "    conv9 = Conv2D(64, (3, 3), activation='relu', padding='same') (up9)\n",
    "    batch9 = BatchNormalization(axis=1)(conv9)\n",
    "    conv9 = Conv2D(64, (3, 3), activation='relu', padding='same') (batch9)\n",
    "    batch9 = BatchNormalization(axis=1)(conv9)\n",
    "\n",
    "    conv10 = Conv2D(1, (1, 1), activation='sigmoid')(batch9)\n",
    "\n",
    "    model = Model(inputs=[inputs], outputs=[conv10])\n",
    "\n",
    "    model.compile(optimizer=Adam(lr=1e-4), loss=dice_coef_loss, metrics=[dice_coef])\n",
    "\n",
    "    return model"
   ]
  },
  {
   "cell_type": "code",
   "execution_count": 16,
   "metadata": {
    "id": "kRRuNW8_11k6"
   },
   "outputs": [],
   "source": [
    "model_ödemsiz = unet_model_7()"
   ]
  },
  {
   "cell_type": "code",
   "execution_count": 17,
   "metadata": {
    "colab": {
     "base_uri": "https://localhost:8080/"
    },
    "id": "Alv7_5VE11n2",
    "outputId": "345a95e3-0735-460a-c92d-82c4e90ae659"
   },
   "outputs": [
    {
     "ename": "NameError",
     "evalue": "name 't1ce_kırp' is not defined",
     "output_type": "error",
     "traceback": [
      "\u001b[1;31m---------------------------------------------------------------------------\u001b[0m",
      "\u001b[1;31mNameError\u001b[0m                                 Traceback (most recent call last)",
      "\u001b[1;32m<ipython-input-17-8b1a9fa93fab>\u001b[0m in \u001b[0;36m<module>\u001b[1;34m\u001b[0m\n\u001b[1;32m----> 1\u001b[1;33m history = model_ödemsiz.fit(t1ce_kırp, ödemsiz,\n\u001b[0m\u001b[0;32m      2\u001b[0m                        \u001b[0mvalidation_split\u001b[0m\u001b[1;33m=\u001b[0m \u001b[1;36m0.20\u001b[0m\u001b[1;33m,\u001b[0m\u001b[1;33m\u001b[0m\u001b[1;33m\u001b[0m\u001b[0m\n\u001b[0;32m      3\u001b[0m                        \u001b[0mbatch_size\u001b[0m \u001b[1;33m=\u001b[0m \u001b[1;36m10\u001b[0m\u001b[1;33m,\u001b[0m\u001b[1;33m\u001b[0m\u001b[1;33m\u001b[0m\u001b[0m\n\u001b[0;32m      4\u001b[0m                        \u001b[0mepochs\u001b[0m\u001b[1;33m=\u001b[0m \u001b[1;36m5\u001b[0m\u001b[1;33m,\u001b[0m\u001b[1;33m\u001b[0m\u001b[1;33m\u001b[0m\u001b[0m\n\u001b[0;32m      5\u001b[0m                        \u001b[0mshuffle\u001b[0m\u001b[1;33m=\u001b[0m\u001b[1;32mTrue\u001b[0m\u001b[1;33m,\u001b[0m\u001b[1;33m\u001b[0m\u001b[1;33m\u001b[0m\u001b[0m\n",
      "\u001b[1;31mNameError\u001b[0m: name 't1ce_kırp' is not defined"
     ]
    }
   ],
   "source": [
    "history = model_ödemsiz.fit(t1ce_kırp, ödemsiz,\n",
    "                       validation_split= 0.20,\n",
    "                       batch_size = 10,\n",
    "                       epochs= 5,\n",
    "                       shuffle=True,\n",
    "                       verbose=1)"
   ]
  },
  {
   "cell_type": "code",
   "execution_count": 18,
   "metadata": {
    "id": "w28kjPJZ11qk"
   },
   "outputs": [],
   "source": [
    "model_geniş = unet_model_7()"
   ]
  },
  {
   "cell_type": "code",
   "execution_count": 19,
   "metadata": {
    "colab": {
     "base_uri": "https://localhost:8080/"
    },
    "id": "wTTI5d3111sG",
    "outputId": "c38b9e9c-060d-43e5-c7b6-c6b9549c85f5"
   },
   "outputs": [
    {
     "ename": "NameError",
     "evalue": "name 't1ce_kırp' is not defined",
     "output_type": "error",
     "traceback": [
      "\u001b[1;31m---------------------------------------------------------------------------\u001b[0m",
      "\u001b[1;31mNameError\u001b[0m                                 Traceback (most recent call last)",
      "\u001b[1;32m<ipython-input-19-fddf6fd355ed>\u001b[0m in \u001b[0;36m<module>\u001b[1;34m\u001b[0m\n\u001b[1;32m----> 1\u001b[1;33m history = model_geniş.fit(t1ce_kırp, geniş,\n\u001b[0m\u001b[0;32m      2\u001b[0m                        \u001b[0mvalidation_split\u001b[0m\u001b[1;33m=\u001b[0m \u001b[1;36m0.20\u001b[0m\u001b[1;33m,\u001b[0m\u001b[1;33m\u001b[0m\u001b[1;33m\u001b[0m\u001b[0m\n\u001b[0;32m      3\u001b[0m                        \u001b[0mbatch_size\u001b[0m \u001b[1;33m=\u001b[0m \u001b[1;36m10\u001b[0m\u001b[1;33m,\u001b[0m\u001b[1;33m\u001b[0m\u001b[1;33m\u001b[0m\u001b[0m\n\u001b[0;32m      4\u001b[0m                        \u001b[0mepochs\u001b[0m\u001b[1;33m=\u001b[0m \u001b[1;36m5\u001b[0m\u001b[1;33m,\u001b[0m\u001b[1;33m\u001b[0m\u001b[1;33m\u001b[0m\u001b[0m\n\u001b[0;32m      5\u001b[0m                        \u001b[0mshuffle\u001b[0m\u001b[1;33m=\u001b[0m\u001b[1;32mTrue\u001b[0m\u001b[1;33m,\u001b[0m\u001b[1;33m\u001b[0m\u001b[1;33m\u001b[0m\u001b[0m\n",
      "\u001b[1;31mNameError\u001b[0m: name 't1ce_kırp' is not defined"
     ]
    }
   ],
   "source": [
    "history = model_geniş.fit(t1ce_kırp, geniş,\n",
    "                       validation_split= 0.20,\n",
    "                       batch_size = 10,\n",
    "                       epochs= 5,\n",
    "                       shuffle=True,\n",
    "                       verbose=1)"
   ]
  },
  {
   "cell_type": "code",
   "execution_count": 20,
   "metadata": {
    "id": "k8sqnkAr11wC"
   },
   "outputs": [
    {
     "ename": "OSError",
     "evalue": "Unable to open file (unable to open file: name = '/content/drive/MyDrive/adamınyaptığıbitirmeödevi/ödemsiz.h5', errno = 2, error message = 'No such file or directory', flags = 0, o_flags = 0)",
     "output_type": "error",
     "traceback": [
      "\u001b[1;31m---------------------------------------------------------------------------\u001b[0m",
      "\u001b[1;31mOSError\u001b[0m                                   Traceback (most recent call last)",
      "\u001b[1;32m<ipython-input-20-79d22835abb3>\u001b[0m in \u001b[0;36m<module>\u001b[1;34m\u001b[0m\n\u001b[1;32m----> 1\u001b[1;33m \u001b[0mmodel_ödemsiz\u001b[0m\u001b[1;33m.\u001b[0m\u001b[0mload_weights\u001b[0m\u001b[1;33m(\u001b[0m\u001b[1;34m'/content/drive/MyDrive/adamınyaptığıbitirmeödevi/ödemsiz.h5'\u001b[0m\u001b[1;33m)\u001b[0m\u001b[1;33m\u001b[0m\u001b[1;33m\u001b[0m\u001b[0m\n\u001b[0m\u001b[0;32m      2\u001b[0m \u001b[0mmodel_geniş\u001b[0m\u001b[1;33m.\u001b[0m\u001b[0mload_weights\u001b[0m\u001b[1;33m(\u001b[0m\u001b[1;34m'/content/drive/MyDrive/adamınyaptığıbitirmeödevi/geniş.h5'\u001b[0m\u001b[1;33m)\u001b[0m\u001b[1;33m\u001b[0m\u001b[1;33m\u001b[0m\u001b[0m\n\u001b[0;32m      3\u001b[0m \u001b[1;31m#model_ödemsiz.load_weights('/content/ödemsiz.h5')\u001b[0m\u001b[1;33m\u001b[0m\u001b[1;33m\u001b[0m\u001b[1;33m\u001b[0m\u001b[0m\n\u001b[0;32m      4\u001b[0m \u001b[1;31m#model_geniş.load_weights('/content/geniş.h5')\u001b[0m\u001b[1;33m\u001b[0m\u001b[1;33m\u001b[0m\u001b[1;33m\u001b[0m\u001b[0m\n",
      "\u001b[1;32m~\\anaconda3\\lib\\site-packages\\keras\\engine\\training.py\u001b[0m in \u001b[0;36mload_weights\u001b[1;34m(self, filepath, by_name, skip_mismatch, options)\u001b[0m\n\u001b[0;32m   2292\u001b[0m           'first, then load the weights.')\n\u001b[0;32m   2293\u001b[0m     \u001b[0mself\u001b[0m\u001b[1;33m.\u001b[0m\u001b[0m_assert_weights_created\u001b[0m\u001b[1;33m(\u001b[0m\u001b[1;33m)\u001b[0m\u001b[1;33m\u001b[0m\u001b[1;33m\u001b[0m\u001b[0m\n\u001b[1;32m-> 2294\u001b[1;33m     \u001b[1;32mwith\u001b[0m \u001b[0mh5py\u001b[0m\u001b[1;33m.\u001b[0m\u001b[0mFile\u001b[0m\u001b[1;33m(\u001b[0m\u001b[0mfilepath\u001b[0m\u001b[1;33m,\u001b[0m \u001b[1;34m'r'\u001b[0m\u001b[1;33m)\u001b[0m \u001b[1;32mas\u001b[0m \u001b[0mf\u001b[0m\u001b[1;33m:\u001b[0m\u001b[1;33m\u001b[0m\u001b[1;33m\u001b[0m\u001b[0m\n\u001b[0m\u001b[0;32m   2295\u001b[0m       \u001b[1;32mif\u001b[0m \u001b[1;34m'layer_names'\u001b[0m \u001b[1;32mnot\u001b[0m \u001b[1;32min\u001b[0m \u001b[0mf\u001b[0m\u001b[1;33m.\u001b[0m\u001b[0mattrs\u001b[0m \u001b[1;32mand\u001b[0m \u001b[1;34m'model_weights'\u001b[0m \u001b[1;32min\u001b[0m \u001b[0mf\u001b[0m\u001b[1;33m:\u001b[0m\u001b[1;33m\u001b[0m\u001b[1;33m\u001b[0m\u001b[0m\n\u001b[0;32m   2296\u001b[0m         \u001b[0mf\u001b[0m \u001b[1;33m=\u001b[0m \u001b[0mf\u001b[0m\u001b[1;33m[\u001b[0m\u001b[1;34m'model_weights'\u001b[0m\u001b[1;33m]\u001b[0m\u001b[1;33m\u001b[0m\u001b[1;33m\u001b[0m\u001b[0m\n",
      "\u001b[1;32m~\\anaconda3\\lib\\site-packages\\h5py\\_hl\\files.py\u001b[0m in \u001b[0;36m__init__\u001b[1;34m(self, name, mode, driver, libver, userblock_size, swmr, rdcc_nslots, rdcc_nbytes, rdcc_w0, track_order, fs_strategy, fs_persist, fs_threshold, **kwds)\u001b[0m\n\u001b[0;32m    422\u001b[0m             \u001b[1;32mwith\u001b[0m \u001b[0mphil\u001b[0m\u001b[1;33m:\u001b[0m\u001b[1;33m\u001b[0m\u001b[1;33m\u001b[0m\u001b[0m\n\u001b[0;32m    423\u001b[0m                 \u001b[0mfapl\u001b[0m \u001b[1;33m=\u001b[0m \u001b[0mmake_fapl\u001b[0m\u001b[1;33m(\u001b[0m\u001b[0mdriver\u001b[0m\u001b[1;33m,\u001b[0m \u001b[0mlibver\u001b[0m\u001b[1;33m,\u001b[0m \u001b[0mrdcc_nslots\u001b[0m\u001b[1;33m,\u001b[0m \u001b[0mrdcc_nbytes\u001b[0m\u001b[1;33m,\u001b[0m \u001b[0mrdcc_w0\u001b[0m\u001b[1;33m,\u001b[0m \u001b[1;33m**\u001b[0m\u001b[0mkwds\u001b[0m\u001b[1;33m)\u001b[0m\u001b[1;33m\u001b[0m\u001b[1;33m\u001b[0m\u001b[0m\n\u001b[1;32m--> 424\u001b[1;33m                 fid = make_fid(name, mode, userblock_size,\n\u001b[0m\u001b[0;32m    425\u001b[0m                                fapl, fcpl=make_fcpl(track_order=track_order, fs_strategy=fs_strategy,\n\u001b[0;32m    426\u001b[0m                                fs_persist=fs_persist, fs_threshold=fs_threshold),\n",
      "\u001b[1;32m~\\anaconda3\\lib\\site-packages\\h5py\\_hl\\files.py\u001b[0m in \u001b[0;36mmake_fid\u001b[1;34m(name, mode, userblock_size, fapl, fcpl, swmr)\u001b[0m\n\u001b[0;32m    188\u001b[0m         \u001b[1;32mif\u001b[0m \u001b[0mswmr\u001b[0m \u001b[1;32mand\u001b[0m \u001b[0mswmr_support\u001b[0m\u001b[1;33m:\u001b[0m\u001b[1;33m\u001b[0m\u001b[1;33m\u001b[0m\u001b[0m\n\u001b[0;32m    189\u001b[0m             \u001b[0mflags\u001b[0m \u001b[1;33m|=\u001b[0m \u001b[0mh5f\u001b[0m\u001b[1;33m.\u001b[0m\u001b[0mACC_SWMR_READ\u001b[0m\u001b[1;33m\u001b[0m\u001b[1;33m\u001b[0m\u001b[0m\n\u001b[1;32m--> 190\u001b[1;33m         \u001b[0mfid\u001b[0m \u001b[1;33m=\u001b[0m \u001b[0mh5f\u001b[0m\u001b[1;33m.\u001b[0m\u001b[0mopen\u001b[0m\u001b[1;33m(\u001b[0m\u001b[0mname\u001b[0m\u001b[1;33m,\u001b[0m \u001b[0mflags\u001b[0m\u001b[1;33m,\u001b[0m \u001b[0mfapl\u001b[0m\u001b[1;33m=\u001b[0m\u001b[0mfapl\u001b[0m\u001b[1;33m)\u001b[0m\u001b[1;33m\u001b[0m\u001b[1;33m\u001b[0m\u001b[0m\n\u001b[0m\u001b[0;32m    191\u001b[0m     \u001b[1;32melif\u001b[0m \u001b[0mmode\u001b[0m \u001b[1;33m==\u001b[0m \u001b[1;34m'r+'\u001b[0m\u001b[1;33m:\u001b[0m\u001b[1;33m\u001b[0m\u001b[1;33m\u001b[0m\u001b[0m\n\u001b[0;32m    192\u001b[0m         \u001b[0mfid\u001b[0m \u001b[1;33m=\u001b[0m \u001b[0mh5f\u001b[0m\u001b[1;33m.\u001b[0m\u001b[0mopen\u001b[0m\u001b[1;33m(\u001b[0m\u001b[0mname\u001b[0m\u001b[1;33m,\u001b[0m \u001b[0mh5f\u001b[0m\u001b[1;33m.\u001b[0m\u001b[0mACC_RDWR\u001b[0m\u001b[1;33m,\u001b[0m \u001b[0mfapl\u001b[0m\u001b[1;33m=\u001b[0m\u001b[0mfapl\u001b[0m\u001b[1;33m)\u001b[0m\u001b[1;33m\u001b[0m\u001b[1;33m\u001b[0m\u001b[0m\n",
      "\u001b[1;32mh5py\\_objects.pyx\u001b[0m in \u001b[0;36mh5py._objects.with_phil.wrapper\u001b[1;34m()\u001b[0m\n",
      "\u001b[1;32mh5py\\_objects.pyx\u001b[0m in \u001b[0;36mh5py._objects.with_phil.wrapper\u001b[1;34m()\u001b[0m\n",
      "\u001b[1;32mh5py\\h5f.pyx\u001b[0m in \u001b[0;36mh5py.h5f.open\u001b[1;34m()\u001b[0m\n",
      "\u001b[1;31mOSError\u001b[0m: Unable to open file (unable to open file: name = '/content/drive/MyDrive/adamınyaptığıbitirmeödevi/ödemsiz.h5', errno = 2, error message = 'No such file or directory', flags = 0, o_flags = 0)"
     ]
    }
   ],
   "source": [
    "model_ödemsiz.load_weights('/content/drive/MyDrive/adamınyaptığıbitirmeödevi/ödemsiz.h5')\n",
    "model_geniş.load_weights('/content/drive/MyDrive/adamınyaptığıbitirmeödevi/geniş.h5')\n",
    "#model_ödemsiz.load_weights('/content/ödemsiz.h5')\n",
    "#model_geniş.load_weights('/content/geniş.h5')"
   ]
  },
  {
   "cell_type": "code",
   "execution_count": 27,
   "metadata": {
    "colab": {
     "base_uri": "https://localhost:8080/",
     "height": 433
    },
    "id": "KqW_Uhwl2IdX",
    "outputId": "18e24e53-0f7c-4caf-f840-06c2afe48a98"
   },
   "outputs": [
    {
     "data": {
      "text/plain": [
       "<matplotlib.image.AxesImage at 0x7f9df6292908>"
      ]
     },
     "execution_count": 27,
     "metadata": {
      "tags": []
     },
     "output_type": "execute_result"
    },
    {
     "data": {
      "image/png": "[encoded data removed]",
      "text/plain": [
       "<Figure size 1080x720 with 5 Axes>"
      ]
     },
     "metadata": {
      "needs_background": "light",
      "tags": []
     },
     "output_type": "display_data"
    }
   ],
   "source": [
    "x = 300\n",
    "\n",
    "plt.figure(figsize=(15,10))\n",
    "\n",
    "plt.subplot(3,4,1)\n",
    "plt.title('T1ce')\n",
    "plt.imshow(t1ce_kırp[x,0,:,:])\n",
    "\n",
    "\n",
    "pred_geniş = model_geniş.predict(t1ce_kırp[x:x+1,:,:,:])\n",
    "plt.subplot(3,4,2)\n",
    "plt.title('Genişleyen tümör tahmin')\n",
    "plt.imshow(pred_geniş[0,0,:,:] )\n",
    "\n",
    "plt.subplot(3,4,3)\n",
    "plt.title('Genişleyen tümör')\n",
    "plt.imshow(geniş[x,0,:,:])\n",
    "\n",
    "pred_ödemsiz = model_ödemsiz.predict(t1ce_kırp[x:x+1,:,:,:])\n",
    "plt.subplot(3,4,4)\n",
    "plt.title('Genişleyen + Nekroz tahmin ')\n",
    "plt.imshow(pred_ödemsiz[0,0,:,:] )\n",
    "\n",
    "\n",
    "plt.subplot(3,4,5)\n",
    "plt.title('Genişleyen + Nekroz')\n",
    "plt.imshow(ödemsiz[x,0,:,:])"
   ]
  },
  {
   "cell_type": "code",
   "execution_count": 28,
   "metadata": {
    "id": "LQLDaosr2Iru"
   },
   "outputs": [],
   "source": [
    "def tümör_kırp(x, pred, size): \n",
    "    crop_x = []\n",
    "    list_xy = []\n",
    "    p_tmp = pred[0,:,:]\n",
    "    p_tmp[p_tmp>0.2] = 1    \n",
    "    p_tmp[p_tmp !=1] = 0\n",
    "    index_xy = np.where(p_tmp==1)  \n",
    "\n",
    "    if index_xy[0].shape[0] == 0: \n",
    "        return [],[]\n",
    "        \n",
    "    center_x = (max(index_xy[0]) + min(index_xy[0])) / 2 \n",
    "    center_y = (max(index_xy[1]) + min(index_xy[1])) / 2 \n",
    "    \n",
    "    if center_x >= 176:\n",
    "            center_x = center_x-8\n",
    "        \n",
    "    length = max(index_xy[0]) - min(index_xy[0])\n",
    "    width = max(index_xy[1]) - min(index_xy[1])\n",
    "        \n",
    "    if width <= 64 and length <= 64:  #64x64\n",
    "        img_x = np.zeros((1,size,size),np.float32)\n",
    "        img_x[:,:,:] = x[:,int(center_x - size/2) : int(center_x + size/2),int(center_y - size/2) : int(center_y + size/2)]\n",
    "        crop_x.append(img_x)\n",
    "        list_xy.append((int(center_x - size/2),int(center_y - size/2)))\n",
    "            \n",
    "    if width > 64 and length <= 64:  #64x128\n",
    "        img_x = np.zeros((1,size,size),np.float32)\n",
    "        img_x[:,:,:] = x[:,int(center_x - size/2) : int(center_x + size/2),int(center_y - size) : int(center_y)]\n",
    "        crop_x.append(img_x)\n",
    "        list_xy.append((int(center_x - size/2),int(center_y - size)))\n",
    "            \n",
    "        img_x = np.zeros((1,size,size),np.float32)\n",
    "        img_x[:,:,:] = x[:,int(center_x - size/2) : int(center_x + size/2),int(center_y + 1) : int(center_y + size + 1)]\n",
    "        crop_x.append(img_x)\n",
    "        list_xy.append((int(center_x - size/2),int(center_y)))\n",
    "            \n",
    "    if width <= 64 and length > 64:  #128x64       \n",
    "        img_x = np.zeros((1,size,size),np.float32)\n",
    "        img_x[:,:,:] = x[:,int(center_x - size) : int(center_x),int(center_y - size/2) : int(center_y + size/2)]\n",
    "        crop_x.append(img_x)\n",
    "        list_xy.append((int(center_x - size),int(center_y - size/2)))\n",
    "            \n",
    "        img_x = np.zeros((1,size,size),np.float32)\n",
    "        img_x[:,:,:] = x[:,int(center_x + 1) : int(center_x + size + 1),int(center_y - size/2) : int(center_y + size/2)]\n",
    "        crop_x.append(img_x)\n",
    "        list_xy.append((int(center_x),int(center_y - size/2)))\n",
    "            \n",
    "    if width > 64 and length > 64:  #128x128\n",
    "        img_x = np.zeros((1,size,size),np.float32)\n",
    "        img_x[:,:,:] = x[:,int(center_x - size) : int(center_x),int(center_y - size) : int(center_y)]\n",
    "        crop_x.append(img_x)\n",
    "        list_xy.append((int(center_x - size),int(center_y - size)))\n",
    "            \n",
    "        img_x = np.zeros((1,size,size),np.float32)\n",
    "        img_x[:,:,:] = x[:,int(center_x + 1) : int(center_x + size + 1),int(center_y - size) : int(center_y)]\n",
    "        crop_x.append(img_x)\n",
    "        list_xy.append((int(center_x),int(center_y - size)))\n",
    "            \n",
    "        img_x = np.zeros((1,size,size),np.float32)\n",
    "        img_x[:,:,:] = x[:,int(center_x - size) : int(center_x),int(center_y + 1) : int(center_y + size + 1)]\n",
    "        crop_x.append(img_x)\n",
    "        list_xy.append((int(center_x - size),int(center_y)))\n",
    "            \n",
    "        img_x = np.zeros((1,size,size),np.float32)\n",
    "        img_x[:,:,:] = x[:,int(center_x + 1) : int(center_x + size + 1),int(center_y + 1) : int(center_y + size + 1)]\n",
    "        crop_x.append(img_x)\n",
    "        list_xy.append((int(center_x),int(center_y)))\n",
    "        \n",
    "    \n",
    "        \n",
    "    return np.array(crop_x) , list_xy   "
   ]
  },
  {
   "cell_type": "code",
   "execution_count": 29,
   "metadata": {
    "id": "xzQOHVO82Iur"
   },
   "outputs": [],
   "source": [
    "sayı = 210\n",
    "\n",
    "görüntü1, kordinat1 = tümör_kırp(t1ce[50,:,:,:],seg[50,:,:],64)\n",
    "görüntü2, kordinat2 = tümör_kırp(seg_geniş[50,:,:,:],seg[50,:,:,:],64)\n",
    "görüntü3, kordinat3 = tümör_kırp(seg_ödemsiz[50,:,:,:],seg[50,:,:,:],64)"
   ]
  },
  {
   "cell_type": "code",
   "execution_count": 30,
   "metadata": {
    "colab": {
     "base_uri": "https://localhost:8080/"
    },
    "id": "tUvWWeQx5gGE",
    "outputId": "df246475-5c9e-497a-88e0-56836cabf8a5"
   },
   "outputs": [
    {
     "data": {
      "text/plain": [
       "((1, 1, 64, 64), (1, 1, 64, 64), (1, 1, 64, 64))"
      ]
     },
     "execution_count": 30,
     "metadata": {
      "tags": []
     },
     "output_type": "execute_result"
    }
   ],
   "source": [
    "görüntü1.shape, görüntü2.shape, görüntü3.shape"
   ]
  },
  {
   "cell_type": "code",
   "execution_count": 31,
   "metadata": {
    "colab": {
     "base_uri": "https://localhost:8080/",
     "height": 128
    },
    "id": "e-tZNcML4oqo",
    "outputId": "7f515a8f-3d9e-47d9-cc5d-3113aeafe57d"
   },
   "outputs": [
    {
     "ename": "SyntaxError",
     "evalue": "ignored",
     "output_type": "error",
     "traceback": [
      "\u001b[0;36m  File \u001b[0;32m\"<ipython-input-31-79e78223a8dc>\"\u001b[0;36m, line \u001b[0;32m29\u001b[0m\n\u001b[0;31m    plt.imshow(görüntü3[,0,:,:])\u001b[0m\n\u001b[0m                        ^\u001b[0m\n\u001b[0;31mSyntaxError\u001b[0m\u001b[0;31m:\u001b[0m invalid syntax\n"
     ]
    }
   ],
   "source": [
    "plt.figure(figsize=(15,10))\n",
    "\n",
    "plt.subplot(3,4,1)\n",
    "plt.title('t1ce')\n",
    "plt.imshow(t1ce[sayı,0,:,:])\n",
    "\n",
    "plt.subplot(3,4,2)\n",
    "plt.title('t1ce kırpılmış (1. kırpma)')\n",
    "plt.imshow(görüntü1[0,0,:,:])\n",
    "\n",
    "plt.subplot(3,4,3)\n",
    "plt.title('genişleyen tümör')\n",
    "plt.imshow(görüntü2[0,0,:,:])\n",
    "\n",
    "plt.subplot(3,4,4)\n",
    "plt.title('genişleyen tümör')\n",
    "plt.imshow(görüntü2[1,0,:,:])\n",
    "\n",
    "plt.subplot(3,4,5)\n",
    "plt.title('genişleyen tümör')\n",
    "plt.imshow(görüntü2[2,0,:,:])\n",
    "\n",
    "plt.subplot(3,4,6)\n",
    "plt.title('genişleyen tümör')\n",
    "plt.imshow(görüntü2[3,0,:,:])\n",
    "\n",
    "plt.subplot(3,4,7)\n",
    "plt.title('genişleyen + nekroz')\n",
    "plt.imshow(görüntü3[0,:,:])"
   ]
  },
  {
   "cell_type": "code",
   "execution_count": 32,
   "metadata": {
    "id": "TJqif-Dj4otD"
   },
   "outputs": [],
   "source": [
    "def tumor2array(tumor,segmentasyon):\n",
    "\n",
    "    liste = []\n",
    "\n",
    "    for i in range(len(tumor)):\n",
    "        crop , kordinat = tümör_kırp(tumor[i,:,:,:],segmentasyon[i,:,:,:],64)\n",
    "    \n",
    "        if crop == []:\n",
    "            pass\n",
    "        elif crop.shape[0] ==1:\n",
    "            liste.append(crop[0])\n",
    "        \n",
    "        elif crop.shape[0] ==2:\n",
    "        \n",
    "           liste.append(crop[0])\n",
    "           liste.append(crop[1])\n",
    "        \n",
    "        elif crop.shape[0] ==4:\n",
    "        \n",
    "            liste.append(crop[0])\n",
    "            liste.append(crop[1])\n",
    "            liste.append(crop[2])\n",
    "            liste.append(crop[3]) \n",
    "    \n",
    "    return np.array(liste)"
   ]
  },
  {
   "cell_type": "code",
   "execution_count": 33,
   "metadata": {
    "colab": {
     "base_uri": "https://localhost:8080/"
    },
    "id": "SKc6ao1c4ovh",
    "outputId": "ceccb93b-eb1d-42a9-d1b1-7798c911c6d4"
   },
   "outputs": [
    {
     "name": "stderr",
     "output_type": "stream",
     "text": [
      "/usr/local/lib/python3.6/dist-packages/ipykernel_launcher.py:8: DeprecationWarning: elementwise comparison failed; this will raise an error in the future.\n",
      "  \n"
     ]
    },
    {
     "data": {
      "text/plain": [
       "((2973, 1, 64, 64), (2973, 1, 64, 64), (2973, 1, 64, 64))"
      ]
     },
     "execution_count": 33,
     "metadata": {
      "tags": []
     },
     "output_type": "execute_result"
    }
   ],
   "source": [
    "t1ce_array = tumor2array(t1ce,seg)\n",
    "geniş_array = tumor2array(seg_geniş,seg)\n",
    "ödemsiz_array = tumor2array(seg_ödemsiz,seg)\n",
    "t1ce_array.shape, ödemsiz_array.shape, geniş_array.shape"
   ]
  },
  {
   "cell_type": "code",
   "execution_count": 34,
   "metadata": {
    "colab": {
     "base_uri": "https://localhost:8080/",
     "height": 241
    },
    "id": "tArUT3V46nxm",
    "outputId": "917c2b03-e614-47d9-bf3e-87b80730f0ae"
   },
   "outputs": [
    {
     "data": {
      "text/plain": [
       "<matplotlib.image.AxesImage at 0x7f9df618afd0>"
      ]
     },
     "execution_count": 34,
     "metadata": {
      "tags": []
     },
     "output_type": "execute_result"
    },
    {
     "data": {
      "image/png": "[encoded data removed]",
      "text/plain": [
       "<Figure size 1080x720 with 3 Axes>"
      ]
     },
     "metadata": {
      "needs_background": "light",
      "tags": []
     },
     "output_type": "display_data"
    }
   ],
   "source": [
    "plt.figure(figsize=(15,10))\n",
    "\n",
    "plt.subplot(3,4,1)\n",
    "plt.title('t1ce')\n",
    "plt.imshow(t1ce_array[70,0,:,:])\n",
    "\n",
    "plt.subplot(3,4,2)\n",
    "plt.title('geniş')\n",
    "plt.imshow(geniş_array[40,0,:,:])\n",
    "\n",
    "plt.subplot(3,4,3)\n",
    "plt.title('ödemsiz')\n",
    "plt.imshow(ödemsiz_array[40,0,:,:])"
   ]
  },
  {
   "cell_type": "code",
   "execution_count": 35,
   "metadata": {
    "id": "PwsEJXJ-6n0V"
   },
   "outputs": [],
   "source": [
    "model_ödemsiz_2 = unet_model_7()"
   ]
  },
  {
   "cell_type": "code",
   "execution_count": 36,
   "metadata": {
    "colab": {
     "base_uri": "https://localhost:8080/"
    },
    "id": "acYJeBg56n3I",
    "outputId": "41af1b06-1aef-4060-ea54-b392f54d591d"
   },
   "outputs": [
    {
     "name": "stdout",
     "output_type": "stream",
     "text": [
      "Epoch 1/5\n",
      "238/238 [==============================] - 12s 44ms/step - loss: 0.6632 - dice_coef: 0.3368 - val_loss: 0.7808 - val_dice_coef: 0.2173\n",
      "Epoch 2/5\n",
      "238/238 [==============================] - 9s 40ms/step - loss: 0.3690 - dice_coef: 0.6310 - val_loss: 0.6889 - val_dice_coef: 0.3085\n",
      "Epoch 3/5\n",
      "238/238 [==============================] - 10s 41ms/step - loss: 0.2563 - dice_coef: 0.7437 - val_loss: 0.5485 - val_dice_coef: 0.4477\n",
      "Epoch 4/5\n",
      "238/238 [==============================] - 10s 40ms/step - loss: 0.2137 - dice_coef: 0.7863 - val_loss: 0.4917 - val_dice_coef: 0.5040\n",
      "Epoch 5/5\n",
      "238/238 [==============================] - 9s 40ms/step - loss: 0.1551 - dice_coef: 0.8449 - val_loss: 0.5187 - val_dice_coef: 0.4773\n"
     ]
    }
   ],
   "source": [
    "history = model_ödemsiz_2.fit(t1ce_array, ödemsiz_array,\n",
    "                       validation_split= 0.20,\n",
    "                       batch_size = 10,\n",
    "                       epochs= 5,\n",
    "                       shuffle=True,\n",
    "                       verbose=1)"
   ]
  },
  {
   "cell_type": "code",
   "execution_count": 37,
   "metadata": {
    "id": "m9uwDkYM6n5b"
   },
   "outputs": [],
   "source": [
    "model_geniş_2 = unet_model_7()"
   ]
  },
  {
   "cell_type": "code",
   "execution_count": 38,
   "metadata": {
    "colab": {
     "base_uri": "https://localhost:8080/"
    },
    "id": "1CGnMzVB6oDW",
    "outputId": "00a59c31-af24-4375-ef90-77155a9cc083"
   },
   "outputs": [
    {
     "name": "stdout",
     "output_type": "stream",
     "text": [
      "Epoch 1/5\n",
      "238/238 [==============================] - 11s 41ms/step - loss: 0.7916 - dice_coef: 0.2084 - val_loss: 0.7578 - val_dice_coef: 0.2402\n",
      "Epoch 2/5\n",
      "238/238 [==============================] - 9s 39ms/step - loss: 0.5761 - dice_coef: 0.4239 - val_loss: 0.5389 - val_dice_coef: 0.4573\n",
      "Epoch 3/5\n",
      "238/238 [==============================] - 9s 39ms/step - loss: 0.4271 - dice_coef: 0.5729 - val_loss: 0.4907 - val_dice_coef: 0.5051\n",
      "Epoch 4/5\n",
      "238/238 [==============================] - 9s 39ms/step - loss: 0.3404 - dice_coef: 0.6596 - val_loss: 0.6206 - val_dice_coef: 0.3762\n",
      "Epoch 5/5\n",
      "238/238 [==============================] - 9s 39ms/step - loss: 0.2776 - dice_coef: 0.7224 - val_loss: 0.4976 - val_dice_coef: 0.4982\n"
     ]
    }
   ],
   "source": [
    "history = model_geniş_2.fit(t1ce_array, geniş_array,\n",
    "                       validation_split= 0.20,\n",
    "                       batch_size = 10,\n",
    "                       epochs= 5,\n",
    "                       shuffle=True,\n",
    "                       verbose=1)"
   ]
  },
  {
   "cell_type": "code",
   "execution_count": 39,
   "metadata": {
    "id": "qtq9M6Xu61Zc"
   },
   "outputs": [],
   "source": [
    "model_ödemsiz_2.load_weights('/content/drive/MyDrive/adamınyaptığıbitirmeödevi/ödemsiz.h5')\n",
    "model_geniş_2.load_weights('/content/drive/MyDrive/adamınyaptığıbitirmeödevi/geniş.h5')\n",
    "model.load_weights('/content/drive/MyDrive/adamınyaptığıbitirmeödevi/tam.h5')\n",
    "# model_ödemsiz_2.load_weights('/content/ödemsiz.h5')\n",
    "# model_geniş_2.load_weights('/content/geniş.h5')\n",
    "# model.load_weights('/content/tam.h5')"
   ]
  },
  {
   "cell_type": "code",
   "execution_count": 40,
   "metadata": {
    "id": "OaoFBJl661cz"
   },
   "outputs": [],
   "source": [
    "görüntü , koordinat = tümör_kırp(t1ce[1020,:,:,:],seg[1020,:,:,:],64)"
   ]
  },
  {
   "cell_type": "code",
   "execution_count": 41,
   "metadata": {
    "colab": {
     "base_uri": "https://localhost:8080/"
    },
    "id": "w95EKoMv61jd",
    "outputId": "d7df529e-d7d1-436a-bf9a-8fd1167d27bf"
   },
   "outputs": [
    {
     "data": {
      "text/plain": [
       "(4, 1, 64, 64)"
      ]
     },
     "execution_count": 41,
     "metadata": {
      "tags": []
     },
     "output_type": "execute_result"
    }
   ],
   "source": [
    "görüntü.shape"
   ]
  },
  {
   "cell_type": "code",
   "execution_count": 42,
   "metadata": {
    "id": "zfDY2pxh61mW"
   },
   "outputs": [],
   "source": [
    "pred_ödemsiz = model_ödemsiz.predict(görüntü)\n",
    "pred_geniş = model_geniş.predict(görüntü)\n",
    "pred_tam = model.predict(x_train[1020:1021,:,:,:])"
   ]
  },
  {
   "cell_type": "code",
   "execution_count": 43,
   "metadata": {
    "id": "6_TsVwr761pf"
   },
   "outputs": [],
   "source": [
    "pred_tam[pred_tam > 0.2] = 2\n",
    "pred_tam[pred_tam != 2 ] = 0\n",
    "\n",
    "pred_ödemsiz[pred_ödemsiz > 0.2] = 1\n",
    "pred_ödemsiz[pred_ödemsiz != 1 ] = 0\n",
    "\n",
    "pred_geniş[pred_geniş > 0.2] = 4\n",
    "pred_geniş[pred_geniş != 4 ] = 0"
   ]
  },
  {
   "cell_type": "code",
   "execution_count": 44,
   "metadata": {
    "id": "OsI-0l_68GVr"
   },
   "outputs": [],
   "source": [
    "def üstüne_ekle(pred_tam, pred_ödemsiz , pred_geniş , koordinat):  \n",
    "    \n",
    "    total = np.zeros((1,240,240),np.float32)  \n",
    "    total[:,:,:] = pred_tam[:,:,:]\n",
    "    \n",
    "    for i in range(pred_ödemsiz.shape[0]):\n",
    "        for j in range(64):\n",
    "            for k in range(64):\n",
    "                \n",
    "                if pred_ödemsiz[i,0,j,k] != 0 and pred_tam[0,koordinat[i][0]+j,koordinat[i][1]+k] !=0:\n",
    "                    total[0,koordinat[i][0]+j,koordinat[i][1]+k] = pred_ödemsiz[i,0,j,k]\n",
    "                    \n",
    "                if pred_geniş[i,0,j,k] != 0 and pred_tam[0,koordinat[i][0]+j,koordinat[i][1]+k] !=0:\n",
    "                    total[0,koordinat[i][0]+j,koordinat[i][1]+k] = pred_geniş[i,0,j,k]\n",
    "                \n",
    "    return total"
   ]
  },
  {
   "cell_type": "code",
   "execution_count": 45,
   "metadata": {
    "id": "cnb1ntaP8GYp"
   },
   "outputs": [],
   "source": [
    "deneme = üstüne_ekle(pred_tam[0,:,:,:], pred_ödemsiz, pred_geniş, koordinat)"
   ]
  },
  {
   "cell_type": "code",
   "execution_count": 46,
   "metadata": {
    "colab": {
     "base_uri": "https://localhost:8080/"
    },
    "id": "IKSABlzT8Gbc",
    "outputId": "8c2b83b0-de01-44d3-9902-ac3dcc6cf0fa"
   },
   "outputs": [
    {
     "data": {
      "text/plain": [
       "(1, 240, 240)"
      ]
     },
     "execution_count": 46,
     "metadata": {
      "tags": []
     },
     "output_type": "execute_result"
    }
   ],
   "source": [
    "deneme.shape"
   ]
  },
  {
   "cell_type": "markdown",
   "metadata": {
    "id": "izhTIPiV8Q84"
   },
   "source": []
  },
  {
   "cell_type": "code",
   "execution_count": 47,
   "metadata": {
    "colab": {
     "base_uri": "https://localhost:8080/",
     "height": 286
    },
    "id": "CUTyqNl78Pt0",
    "outputId": "f38c8c56-3d01-4f30-cd49-c7b228052d7f"
   },
   "outputs": [
    {
     "data": {
      "text/plain": [
       "<matplotlib.image.AxesImage at 0x7f9dd24c3978>"
      ]
     },
     "execution_count": 47,
     "metadata": {
      "tags": []
     },
     "output_type": "execute_result"
    },
    {
     "data": {
      "image/png": "[encoded data removed]",
      "text/plain": [
       "<Figure size 432x288 with 1 Axes>"
      ]
     },
     "metadata": {
      "needs_background": "light",
      "tags": []
     },
     "output_type": "display_data"
    }
   ],
   "source": [
    "plt.imshow(deneme[0])"
   ]
  },
  {
   "cell_type": "code",
   "execution_count": 48,
   "metadata": {
    "colab": {
     "base_uri": "https://localhost:8080/",
     "height": 286
    },
    "id": "025iCMIo8PwS",
    "outputId": "dce448ef-7903-476e-918c-278e64049aa1"
   },
   "outputs": [
    {
     "data": {
      "text/plain": [
       "<matplotlib.image.AxesImage at 0x7f9dd2487c18>"
      ]
     },
     "execution_count": 48,
     "metadata": {
      "tags": []
     },
     "output_type": "execute_result"
    },
    {
     "data": {
      "image/png": "[encoded data removed]",
      "text/plain": [
       "<Figure size 432x288 with 1 Axes>"
      ]
     },
     "metadata": {
      "needs_background": "light",
      "tags": []
     },
     "output_type": "display_data"
    }
   ],
   "source": [
    "plt.imshow(t1ce[1020,0,:,:])"
   ]
  },
  {
   "cell_type": "code",
   "execution_count": 49,
   "metadata": {
    "colab": {
     "base_uri": "https://localhost:8080/",
     "height": 286
    },
    "id": "D5BBVgnX8PzK",
    "outputId": "bf84a504-1b6a-4223-869a-5645f509feba"
   },
   "outputs": [
    {
     "data": {
      "text/plain": [
       "<matplotlib.image.AxesImage at 0x7f9dd24b9ba8>"
      ]
     },
     "execution_count": 49,
     "metadata": {
      "tags": []
     },
     "output_type": "execute_result"
    },
    {
     "data": {
      "image/png": "[encoded data removed]",
      "text/plain": [
       "<Figure size 432x288 with 1 Axes>"
      ]
     },
     "metadata": {
      "needs_background": "light",
      "tags": []
     },
     "output_type": "display_data"
    }
   ],
   "source": [
    "plt.imshow(seg_geniş[1020,0,:,:])"
   ]
  },
  {
   "cell_type": "code",
   "execution_count": 50,
   "metadata": {
    "colab": {
     "base_uri": "https://localhost:8080/",
     "height": 286
    },
    "id": "atKFQ7Nt8P9L",
    "outputId": "ef0a6dba-cdda-492e-982e-1c22bef8ceac"
   },
   "outputs": [
    {
     "data": {
      "text/plain": [
       "<matplotlib.image.AxesImage at 0x7f9dd2479eb8>"
      ]
     },
     "execution_count": 50,
     "metadata": {
      "tags": []
     },
     "output_type": "execute_result"
    },
    {
     "data": {
      "image/png": "[encoded data removed]",
      "text/plain": [
       "<Figure size 432x288 with 1 Axes>"
      ]
     },
     "metadata": {
      "needs_background": "light",
      "tags": []
     },
     "output_type": "display_data"
    }
   ],
   "source": [
    "plt.imshow(seg_ödemsiz[1020,0,:,:])"
   ]
  },
  {
   "cell_type": "code",
   "execution_count": null,
   "metadata": {
    "id": "yuQ9v2YH8hCG"
   },
   "outputs": [],
   "source": []
  },
  {
   "cell_type": "code",
   "execution_count": null,
   "metadata": {
    "id": "G63TQKpQ8hE0"
   },
   "outputs": [],
   "source": []
  }
 ],
 "metadata": {
  "accelerator": "GPU",
  "colab": {
   "collapsed_sections": [],
   "name": "teslimbeyintümörü.ipynb",
   "provenance": []
  },
  "kernelspec": {
   "display_name": "Python 3",
   "language": "python",
   "name": "python3"
  },
  "language_info": {
   "codemirror_mode": {
    "name": "ipython",
    "version": 3
   },
   "file_extension": ".py",
   "mimetype": "text/x-python",
   "name": "python",
   "nbconvert_exporter": "python",
   "pygments_lexer": "ipython3",
   "version": "3.8.3"
  }
 },
 "nbformat": 4,
 "nbformat_minor": 1
}
